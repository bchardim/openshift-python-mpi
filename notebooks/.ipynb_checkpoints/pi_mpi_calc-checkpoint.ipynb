{
 "cells": [
  {
   "cell_type": "markdown",
   "metadata": {},
   "source": [
    " # Pi calculation using Montercarlo Method"
   ]
  },
  {
   "cell_type": "code",
   "execution_count": 21,
   "metadata": {
    "hide_input": false
   },
   "outputs": [
    {
     "name": "stdout",
     "output_type": "stream",
     "text": [
      "Calculated pi is 3.1415880000, error is 0.0000046536\n"
     ]
    }
   ],
   "source": [
    "#!/usr/bin/env python3\n",
    "\n",
    "#\n",
    "# Python MPI multithread multihost parallel calculation\n",
    "#\n",
    "# See https://rabernat.github.io/research_computing/parallel-programming-with-mpi-for-python.html\n",
    "# See http://mpitutorial.com/tutorials/\n",
    "\n",
    "from mpi4py import MPI\n",
    "import numpy\n",
    "import sys\n",
    "\n",
    "# Montecarlo method\n",
    "# If a circle of radius R is inscribed inside a square with side length 2R, then the area of the circle will be pi*R^2 and the area of the square will be (2R)^2. \n",
    "# So the ratio of the area of the circle to the area of the square will be pi/4\n",
    "# This means that, if you pick n points at random inside the square, approximately n*pi/4 of those points should fall inside the circle. \n",
    "def compute_pi(samples):\n",
    "    count = 0\n",
    "    for x, y in samples:\n",
    "        if x**2 + y**2 <= 1:\n",
    "            count += 1\n",
    "    pi = 4*float(count)/len(samples)\n",
    "    return pi\n",
    "\n",
    "# Create a MPI communicator and get nprocs, rank and size of communication \n",
    "# Used the default communicator named MPI.COMM_WORLD, which consists of all the processors. For many MPI codes, this is the main communicator that you will need\n",
    "comm = MPI.COMM_WORLD\n",
    "nprocs = comm.Get_size() # Get the number of processes\n",
    "myrank = comm.Get_rank() # Get the rank of the process\n",
    "# Each process inside of a communicator is assigned an incremental rank starting from zero. \n",
    "# The ranks of the processes are primarily used for identification purposes when sending and receiving messages.\n",
    "\n",
    "\n",
    "# Number of iterations must be multiple of nproc\n",
    "n = int(1000000)\n",
    "nprocs=1\n",
    "\n",
    "if (myrank == 0):\n",
    "    if (n % nprocs != 0):\n",
    "        print (\"ERROR - number of calculations must be a multiple of nproc\")\n",
    "        comm.Abort()\n",
    "\n",
    "# Create sample array with random x,y points for montecarlo calculation\n",
    "# This must be done only once in the first process (myrank == 0)\n",
    "if myrank == 0:\n",
    "    N = n // nprocs\n",
    "    samples = numpy.random.random((nprocs, N, 2))\n",
    "else:\n",
    "    samples = None\n",
    "\n",
    "# Scatter takes an array (samples) and distributes contiguous sections of it across the ranks of a communicator from the root process\n",
    "samples = comm.scatter(samples, root=0)\n",
    "\n",
    "# Perform montecarlo calculation on each processor\n",
    "mypi = compute_pi(samples) / nprocs\n",
    "\n",
    "# The MP reduce operation takes values in from an array on each processor and reduces them to a single result on the root process. \n",
    "# This is essentially like having a somewhat complicated send command from each process to the root process, and then having the root process perform the reduction operation. \n",
    "# Thankfully, MPI reduce does all this with one concise \n",
    "pi = comm.reduce(mypi, root=0)\n",
    "\n",
    "# Print result\n",
    "# This must be done only once in the first process (myrank == 0), collecting all other process results with previous comm.reduce\n",
    "if myrank == 0:\n",
    "    error = abs(pi - numpy.pi)\n",
    "    print(\"Calculated pi is %.10f, error is %.10f\" % (pi, error))\n"
   ]
  },
  {
   "cell_type": "code",
   "execution_count": null,
   "metadata": {},
   "outputs": [],
   "source": []
  }
 ],
 "metadata": {
  "anaconda-cloud": {},
  "kernelspec": {
   "display_name": "Python 3",
   "language": "python",
   "name": "python3"
  },
  "language_info": {
   "codemirror_mode": {
    "name": "ipython",
    "version": 3
   },
   "file_extension": ".py",
   "mimetype": "text/x-python",
   "name": "python",
   "nbconvert_exporter": "python",
   "pygments_lexer": "ipython3",
   "version": "3.7.4"
  }
 },
 "nbformat": 4,
 "nbformat_minor": 2
}
