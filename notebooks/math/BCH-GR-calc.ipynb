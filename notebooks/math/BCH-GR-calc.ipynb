{
 "cells": [
  {
   "cell_type": "markdown",
   "metadata": {},
   "source": [
    "The following assumes that you are using version 7.5 (or higher) of SageMath, since lower versions do not include all features of SageManifolds:"
   ]
  },
  {
   "cell_type": "code",
   "execution_count": 41,
   "metadata": {},
   "outputs": [
    {
     "data": {
      "text/html": [
       "<html><script type=\"math/tex; mode=display\">\\newcommand{\\Bold}[1]{\\mathbf{#1}}\\verb|SageMath|\\phantom{\\verb!x!}\\verb|version|\\phantom{\\verb!x!}\\verb|8.2,|\\phantom{\\verb!x!}\\verb|Release|\\phantom{\\verb!x!}\\verb|Date:|\\phantom{\\verb!x!}\\verb|2018-05-05|</script></html>"
      ],
      "text/plain": [
       "'SageMath version 8.2, Release Date: 2018-05-05'"
      ]
     },
     "execution_count": 41,
     "metadata": {},
     "output_type": "execute_result"
    }
   ],
   "source": [
    "version()"
   ]
  },
  {
   "cell_type": "markdown",
   "metadata": {},
   "source": [
    "First we set up the notebook to display mathematical objects using LaTeX rendering:"
   ]
  },
  {
   "cell_type": "code",
   "execution_count": 42,
   "metadata": {},
   "outputs": [],
   "source": [
    "%display latex"
   ]
  },
  {
   "cell_type": "markdown",
   "metadata": {},
   "source": [
    "## Defining a manifold\n",
    "\n",
    "As an example let us define a differentiable manifold of dimension 3 over $\\mathbb{R}$:"
   ]
  },
  {
   "cell_type": "code",
   "execution_count": 43,
   "metadata": {},
   "outputs": [],
   "source": [
    "M = Manifold(2, 'M', latex_name=r'\\mathcal{M}', start_index=1)"
   ]
  },
  {
   "cell_type": "markdown",
   "metadata": {},
   "source": [
    "- The first argument, `3`, is the manifold dimension. In SageManifolds, it can be any\n",
    "  positive integer.\n",
    "- The second argument, `'M'`, is a string defining the manifold's name; it may be \n",
    "  different from the symbol set on the left-hand side of the = sign (here `M`): the latter\n",
    "  stands for a mere Python variable, which refers to the manifold object in the computer \n",
    "  memory, while the string `'M'` is the mathematical symbol chosen for the manifold.\n",
    "- The optional argument `latex_name=r'\\mathcal{M}'` sets the LaTeX\n",
    "  symbol to display the manifold. Note the letter 'r' in front on the first quote: \n",
    "  it indicates that the  string is a *raw* one, so that the backslash character \n",
    "  in `\\mathcal` is considered as an ordinary character (otherwise, the backslash is \n",
    "  used to escape some special characters). If the argument `latex_name` is not \n",
    "  provided by the user, it is set to the string used as the second argument (here `'M'`)\n",
    "- The optional argument `start_index=1` defines the range of indices to be used for \n",
    "  tensor components on the manifold: setting it to 1 means that indices will range \n",
    "  in $\\{1,2,3\\}$. The default value is `start_index=0`.\n",
    "\n",
    "Note that the default base field is $\\mathbb{R}$. If we would have used the optional\n",
    "argument `field='complex'`, we would have defined a manifold over $\\mathbb{C}$. See the\n",
    "[list of all options](http://doc.sagemath.org/html/en/reference/manifolds/sage/manifolds/manifold.html#sage.manifolds.manifold.Manifold) for more details. \n",
    "\n",
    "If we ask for M, it is displayed via its LaTeX symbol:"
   ]
  },
  {
   "cell_type": "code",
   "execution_count": 44,
   "metadata": {},
   "outputs": [
    {
     "data": {
      "text/html": [
       "<html><script type=\"math/tex; mode=display\">\\newcommand{\\Bold}[1]{\\mathbf{#1}}\\mathcal{M}</script></html>"
      ],
      "text/plain": [
       "2-dimensional differentiable manifold M"
      ]
     },
     "execution_count": 44,
     "metadata": {},
     "output_type": "execute_result"
    }
   ],
   "source": [
    "M"
   ]
  },
  {
   "cell_type": "markdown",
   "metadata": {},
   "source": [
    "If we use the `print` function instead, we get a short description of the object:"
   ]
  },
  {
   "cell_type": "code",
   "execution_count": 45,
   "metadata": {},
   "outputs": [
    {
     "name": "stdout",
     "output_type": "stream",
     "text": [
      "2-dimensional differentiable manifold M\n"
     ]
    }
   ],
   "source": [
    "print(M)"
   ]
  },
  {
   "cell_type": "markdown",
   "metadata": {},
   "source": [
    "<p>Via the command <span style=\"font-family: courier new,courier;\">type</span>, we get the type of the Python object corresponding to M (here the Python class <span style=\"font-family: courier new,courier;\">DifferentiableManifold_with_category</span>):</p>"
   ]
  },
  {
   "cell_type": "code",
   "execution_count": 46,
   "metadata": {},
   "outputs": [
    {
     "data": {
      "text/html": [
       "<html><script type=\"math/tex; mode=display\">\\newcommand{\\Bold}[1]{\\mathbf{#1}}\\verb|<class|\\phantom{\\verb!x!}\\verb|'sage.manifolds.differentiable.manifold.DifferentiableManifold_with_category'>|</script></html>"
      ],
      "text/plain": [
       "<class 'sage.manifolds.differentiable.manifold.DifferentiableManifold_with_category'>"
      ]
     },
     "execution_count": 46,
     "metadata": {},
     "output_type": "execute_result"
    }
   ],
   "source": [
    "type(M)"
   ]
  },
  {
   "cell_type": "markdown",
   "metadata": {},
   "source": [
    "We can also ask for the category of M and see that it is the category of smooth manifolds over $\\mathbb{R}$:"
   ]
  },
  {
   "cell_type": "code",
   "execution_count": 47,
   "metadata": {},
   "outputs": [
    {
     "data": {
      "text/html": [
       "<html><script type=\"math/tex; mode=display\">\\newcommand{\\Bold}[1]{\\mathbf{#1}}\\mathbf{Smooth}_{\\Bold{R}}</script></html>"
      ],
      "text/plain": [
       "Category of smooth manifolds over Real Field with 53 bits of precision"
      ]
     },
     "execution_count": 47,
     "metadata": {},
     "output_type": "execute_result"
    }
   ],
   "source": [
    "category(M)"
   ]
  },
  {
   "cell_type": "markdown",
   "metadata": {},
   "source": [
    "<p>The indices on the manifold are generated by the method <span style=\"font-family: courier new,courier;\">irange()</span>, to be used in loops:</p>"
   ]
  },
  {
   "cell_type": "code",
   "execution_count": 48,
   "metadata": {},
   "outputs": [
    {
     "name": "stdout",
     "output_type": "stream",
     "text": [
      "1\n",
      "2\n"
     ]
    }
   ],
   "source": [
    "for i in M.irange():\n",
    "    print(i)"
   ]
  },
  {
   "cell_type": "markdown",
   "metadata": {},
   "source": [
    "<p>If the parameter<span style=\"font-family: courier new,courier;\"> start_index</span> had not been specified, the default range of the indices would have been $\\{0,1,2\\}$ instead:</p>"
   ]
  },
  {
   "cell_type": "code",
   "execution_count": 49,
   "metadata": {},
   "outputs": [
    {
     "name": "stdout",
     "output_type": "stream",
     "text": [
      "0\n",
      "1\n"
     ]
    }
   ],
   "source": [
    "M0 = Manifold(2, 'M', r'\\mathcal{M}')\n",
    "for i in M0.irange():\n",
    "    print(i)"
   ]
  },
  {
   "cell_type": "markdown",
   "metadata": {},
   "source": [
    "<h2>Defining a chart on the manifold</h2>\n",
    "<p>Let us assume that the manifold $\\mathcal{M}$ can be covered by a single chart (other cases are discussed below); the chart is declared as follows:</p>"
   ]
  },
  {
   "cell_type": "code",
   "execution_count": 50,
   "metadata": {},
   "outputs": [
    {
     "data": {
      "text/html": [
       "<html><script type=\"math/tex; mode=display\">\\newcommand{\\Bold}[1]{\\mathbf{#1}}\\left(\\mathcal{M},({\\phi}, {\\theta})\\right)</script></html>"
      ],
      "text/plain": [
       "Chart (M, (ph, th))"
      ]
     },
     "execution_count": 50,
     "metadata": {},
     "output_type": "execute_result"
    }
   ],
   "source": [
    "X.<ph,th> = M.chart(r\"ph:(0,2*pi):\\phi th:(0,pi):\\theta\") \n",
    "X"
   ]
  },
  {
   "cell_type": "markdown",
   "metadata": {},
   "source": [
    "The writing `.<x,y,z>` in the left-hand side means that the Python variables `x`, `y` and `z` are set to the three coordinates of the chart. This allows one to refer subsequently to the coordinates by their names.\n",
    "\n",
    "In this example, the function `chart()` has no arguments, which implies that the coordinate symbols will be `x`, `y` and `z` (i.e. exactly the characters set in the `<...>` operator) and that each coordinate range is $(-\\infty,+\\infty)$. For other cases, an argument must be passed to `chart()`  to specify the coordinate symbols and range, as well as the LaTeX symbol of a coordinate if the latter is different from the coordinate name (an example will be provided below)."
   ]
  },
  {
   "cell_type": "markdown",
   "metadata": {},
   "source": [
    "<p>The chart is displayed as a pair formed by the open set covered by it (here the whole manifold) and the coordinates:</p>"
   ]
  },
  {
   "cell_type": "code",
   "execution_count": 51,
   "metadata": {},
   "outputs": [
    {
     "name": "stdout",
     "output_type": "stream",
     "text": [
      "Chart (M, (ph, th))\n"
     ]
    }
   ],
   "source": [
    "print(X)"
   ]
  },
  {
   "cell_type": "code",
   "execution_count": 52,
   "metadata": {},
   "outputs": [
    {
     "data": {
      "text/html": [
       "<html><script type=\"math/tex; mode=display\">\\newcommand{\\Bold}[1]{\\mathbf{#1}}\\left(\\mathcal{M},({\\phi}, {\\theta})\\right)</script></html>"
      ],
      "text/plain": [
       "Chart (M, (ph, th))"
      ]
     },
     "execution_count": 52,
     "metadata": {},
     "output_type": "execute_result"
    }
   ],
   "source": [
    "X"
   ]
  },
  {
   "cell_type": "markdown",
   "metadata": {},
   "source": [
    "<p>The coordinates can be accessed individually, by means of their indices, following the convention defined by <span style=\"font-family: courier new,courier;\">start_index=1</span> in the manifold's definition:</p>"
   ]
  },
  {
   "cell_type": "code",
   "execution_count": 53,
   "metadata": {},
   "outputs": [
    {
     "data": {
      "text/html": [
       "<html><script type=\"math/tex; mode=display\">\\newcommand{\\Bold}[1]{\\mathbf{#1}}{\\phi}</script></html>"
      ],
      "text/plain": [
       "ph"
      ]
     },
     "execution_count": 53,
     "metadata": {},
     "output_type": "execute_result"
    }
   ],
   "source": [
    "X[1]"
   ]
  },
  {
   "cell_type": "code",
   "execution_count": 54,
   "metadata": {},
   "outputs": [
    {
     "data": {
      "text/html": [
       "<html><script type=\"math/tex; mode=display\">\\newcommand{\\Bold}[1]{\\mathbf{#1}}{\\theta}</script></html>"
      ],
      "text/plain": [
       "th"
      ]
     },
     "execution_count": 54,
     "metadata": {},
     "output_type": "execute_result"
    }
   ],
   "source": [
    "X[2]"
   ]
  },
  {
   "cell_type": "code",
   "execution_count": 55,
   "metadata": {},
   "outputs": [],
   "source": [
    "#X[3]"
   ]
  },
  {
   "cell_type": "markdown",
   "metadata": {},
   "source": [
    "<p>The full set of coordinates is obtained by means of the operator [:]:</p>"
   ]
  },
  {
   "cell_type": "code",
   "execution_count": 56,
   "metadata": {},
   "outputs": [
    {
     "data": {
      "text/html": [
       "<html><script type=\"math/tex; mode=display\">\\newcommand{\\Bold}[1]{\\mathbf{#1}}\\left({\\phi}, {\\theta}\\right)</script></html>"
      ],
      "text/plain": [
       "(ph, th)"
      ]
     },
     "execution_count": 56,
     "metadata": {},
     "output_type": "execute_result"
    }
   ],
   "source": [
    "X[:]"
   ]
  },
  {
   "cell_type": "markdown",
   "metadata": {},
   "source": [
    "Thanks to the operator `<x,y,z>` used in the chart declaration, each coordinate can be accessed directly via its name:"
   ]
  },
  {
   "cell_type": "markdown",
   "metadata": {},
   "source": [
    "We can draw the chart $Y$ in terms of the chart $X$. \n",
    "Let us first define a viewer for 3D plots (use `'threejs'` or `'jmol'` for interactive 3D graphics):"
   ]
  },
  {
   "cell_type": "code",
   "execution_count": 57,
   "metadata": {},
   "outputs": [
    {
     "data": {
      "text/html": [
       "<html><script type=\"math/tex; mode=display\">\\newcommand{\\Bold}[1]{\\mathbf{#1}}{\\phi} :\\ \\left( 0 , 2 \\, \\pi \\right) ;\\quad {\\theta} :\\ \\left( 0 , \\pi \\right)</script></html>"
      ],
      "text/plain": [
       "ph: (0, 2*pi); th: (0, pi)"
      ]
     },
     "execution_count": 57,
     "metadata": {},
     "output_type": "execute_result"
    }
   ],
   "source": [
    "X.coord_range()"
   ]
  },
  {
   "cell_type": "markdown",
   "metadata": {},
   "source": [
    "<h2>Metric structures</h2>\n",
    "<p>A <strong>Riemannian metric</strong> on the manifold $\\mathcal{M}$ is declared as follows:</p><br>\n",
    "$$ds^2=g_{\\mu \\nu}dx^{\\mu}dx^{\\nu}$$"
   ]
  },
  {
   "cell_type": "code",
   "execution_count": 58,
   "metadata": {},
   "outputs": [
    {
     "name": "stdout",
     "output_type": "stream",
     "text": [
      "Riemannian metric g on the 2-dimensional differentiable manifold M\n"
     ]
    }
   ],
   "source": [
    "g = M.metric('g')\n",
    "print(g)"
   ]
  },
  {
   "cell_type": "markdown",
   "metadata": {},
   "source": [
    "<p>It is a symmetric tensor field of type (0,2):</p>"
   ]
  },
  {
   "cell_type": "code",
   "execution_count": 59,
   "metadata": {},
   "outputs": [
    {
     "data": {
      "text/html": [
       "<html><script type=\"math/tex; mode=display\">\\newcommand{\\Bold}[1]{\\mathbf{#1}}\\mathcal{T}^{(0, 2)}\\left(\\right)</script></html>"
      ],
      "text/plain": [
       "Free module T^(0,2)(M) of type-(0,2) tensors fields on the 2-dimensional differentiable manifold M"
      ]
     },
     "execution_count": 59,
     "metadata": {},
     "output_type": "execute_result"
    }
   ],
   "source": [
    "g.parent()"
   ]
  },
  {
   "cell_type": "code",
   "execution_count": 60,
   "metadata": {},
   "outputs": [
    {
     "name": "stdout",
     "output_type": "stream",
     "text": [
      "Free module T^(0,2)(M) of type-(0,2) tensors fields on the 2-dimensional differentiable manifold M\n"
     ]
    }
   ],
   "source": [
    "print(g.parent())"
   ]
  },
  {
   "cell_type": "code",
   "execution_count": 61,
   "metadata": {},
   "outputs": [
    {
     "name": "stdout",
     "output_type": "stream",
     "text": [
      "symmetry: (0, 1); no antisymmetry\n"
     ]
    }
   ],
   "source": [
    "g.symmetries()"
   ]
  },
  {
   "cell_type": "markdown",
   "metadata": {},
   "source": [
    "<p>The metric is initialized by its components with respect to some vector frame. For instance, using the default frame of $\\mathcal{M}$:</p>"
   ]
  },
  {
   "cell_type": "code",
   "execution_count": 62,
   "metadata": {},
   "outputs": [],
   "source": [
    "a,b = var('a b') "
   ]
  },
  {
   "cell_type": "code",
   "execution_count": 63,
   "metadata": {},
   "outputs": [
    {
     "data": {
      "text/html": [
       "<html><script type=\"math/tex; mode=display\">\\newcommand{\\Bold}[1]{\\mathbf{#1}}g = a^{2} \\mathrm{d} {\\phi}\\otimes \\mathrm{d} {\\phi} + {\\left(a \\sin\\left({\\phi}\\right) + b\\right)}^{2} \\mathrm{d} {\\theta}\\otimes \\mathrm{d} {\\theta}</script></html>"
      ],
      "text/plain": [
       "g = a^2 dph*dph + (a*sin(ph) + b)^2 dth*dth"
      ]
     },
     "execution_count": 63,
     "metadata": {},
     "output_type": "execute_result"
    }
   ],
   "source": [
    "g[1,1], g[2,2] = a^2, (b + a*sin(ph))^2\n",
    "g.display()"
   ]
  },
  {
   "cell_type": "code",
   "execution_count": 64,
   "metadata": {},
   "outputs": [
    {
     "data": {
      "text/html": [
       "<html><script type=\"math/tex; mode=display\">\\newcommand{\\Bold}[1]{\\mathbf{#1}}\\left(\\begin{array}{rr}\n",
       "a^{2} & 0 \\\\\n",
       "0 & {\\left(a \\sin\\left({\\phi}\\right) + b\\right)}^{2}\n",
       "\\end{array}\\right)</script></html>"
      ],
      "text/plain": [
       "[              a^2                 0]\n",
       "[                0 (a*sin(ph) + b)^2]"
      ]
     },
     "execution_count": 64,
     "metadata": {},
     "output_type": "execute_result"
    }
   ],
   "source": [
    "g[:]"
   ]
  },
  {
   "cell_type": "markdown",
   "metadata": {},
   "source": [
    "<p><strong>Affine connection </strong> nonzero coef associated to the metric $g$:</p><br>\n",
    "$$\\Gamma^{\\sigma}_{\\phantom{\\sigma}\\lambda\\mu}=\\frac{1}{2}g^{\\nu\\sigma}\\left\\{\\frac{\\partial g_{\\mu\\nu}}{\\partial x^{\\lambda}}+\\frac{\\partial g_{\\lambda\\nu}}{\\partial x^{\\mu}}-\\frac{\\partial g_{\\mu\\lambda}}{\\partial x^{\\nu}}\\right\\}\\quad$$\n",
    "\n"
   ]
  },
  {
   "cell_type": "code",
   "execution_count": 65,
   "metadata": {},
   "outputs": [
    {
     "data": {
      "text/html": [
       "<html><script type=\"math/tex; mode=display\">\\newcommand{\\Bold}[1]{\\mathbf{#1}}\\begin{array}{lcl} \\Gamma_{ \\phantom{\\, {\\phi}} \\, {\\theta} \\, {\\theta} }^{ \\, {\\phi} \\phantom{\\, {\\theta}} \\phantom{\\, {\\theta}} } & = & -\\frac{a \\cos\\left({\\phi}\\right) \\sin\\left({\\phi}\\right) + b \\cos\\left({\\phi}\\right)}{a} \\\\ \\Gamma_{ \\phantom{\\, {\\theta}} \\, {\\phi} \\, {\\theta} }^{ \\, {\\theta} \\phantom{\\, {\\phi}} \\phantom{\\, {\\theta}} } & = & \\frac{a \\cos\\left({\\phi}\\right)}{a \\sin\\left({\\phi}\\right) + b} \\end{array}</script></html>"
      ],
      "text/plain": [
       "Gam^ph_th,th = -(a*cos(ph)*sin(ph) + b*cos(ph))/a \n",
       "Gam^th_ph,th = a*cos(ph)/(a*sin(ph) + b) "
      ]
     },
     "execution_count": 65,
     "metadata": {},
     "output_type": "execute_result"
    }
   ],
   "source": [
    "g.christoffel_symbols_display()"
   ]
  },
  {
   "cell_type": "markdown",
   "metadata": {},
   "source": [
    "<p><strong>Riemann Tensor</strong> associated to the metric $g$:</p><br>\n",
    "$$R^{\\lambda}_{\\phantom{\\mu}\\mu\\nu\\kappa}=\\partial_{\\kappa}\\Gamma^{\\lambda}_{\\phantom{\\mu}\\mu\\nu}-\\partial_{\\nu}\n",
    "\\Gamma^{\\lambda}_{\\phantom{\\mu}\\mu\\kappa}+\\Gamma^{\\eta}_{\\phantom{\\mu}\\mu\\nu}\\Gamma^{\\lambda}_{\\phantom{\\mu}\\kappa\\eta}-\\Gamma^{\\eta}_{\\phantom{\\mu}\\mu\\kappa}\\Gamma^{\\lambda}_{\\phantom{\\mu}\\nu\\eta}\\quad$$"
   ]
  },
  {
   "cell_type": "code",
   "execution_count": 66,
   "metadata": {},
   "outputs": [
    {
     "name": "stdout",
     "output_type": "stream",
     "text": [
      "Tensor field Riem(g) of type (1,3) on the 2-dimensional differentiable manifold M\n"
     ]
    }
   ],
   "source": [
    "rie = g.riemann()\n",
    "print (rie)"
   ]
  },
  {
   "cell_type": "code",
   "execution_count": 67,
   "metadata": {},
   "outputs": [
    {
     "data": {
      "text/html": [
       "<html><script type=\"math/tex; mode=display\">\\newcommand{\\Bold}[1]{\\mathbf{#1}}\\begin{array}{lcl} \\mathrm{Riem}\\left(g\\right)_{ \\phantom{\\, {\\phi}} \\, {\\theta} \\, {\\phi} \\, {\\theta} }^{ \\, {\\phi} \\phantom{\\, {\\theta}} \\phantom{\\, {\\phi}} \\phantom{\\, {\\theta}} } & = & \\frac{a \\sin\\left({\\phi}\\right)^{2} + b \\sin\\left({\\phi}\\right)}{a} \\\\ \\mathrm{Riem}\\left(g\\right)_{ \\phantom{\\, {\\phi}} \\, {\\theta} \\, {\\theta} \\, {\\phi} }^{ \\, {\\phi} \\phantom{\\, {\\theta}} \\phantom{\\, {\\theta}} \\phantom{\\, {\\phi}} } & = & -\\frac{a \\sin\\left({\\phi}\\right)^{2} + b \\sin\\left({\\phi}\\right)}{a} \\\\ \\mathrm{Riem}\\left(g\\right)_{ \\phantom{\\, {\\theta}} \\, {\\phi} \\, {\\phi} \\, {\\theta} }^{ \\, {\\theta} \\phantom{\\, {\\phi}} \\phantom{\\, {\\phi}} \\phantom{\\, {\\theta}} } & = & -\\frac{a \\sin\\left({\\phi}\\right)}{a \\sin\\left({\\phi}\\right) + b} \\\\ \\mathrm{Riem}\\left(g\\right)_{ \\phantom{\\, {\\theta}} \\, {\\phi} \\, {\\theta} \\, {\\phi} }^{ \\, {\\theta} \\phantom{\\, {\\phi}} \\phantom{\\, {\\theta}} \\phantom{\\, {\\phi}} } & = & \\frac{a \\sin\\left({\\phi}\\right)}{a \\sin\\left({\\phi}\\right) + b} \\end{array}</script></html>"
      ],
      "text/plain": [
       "Riem(g)^ph_th,ph,th = (a*sin(ph)^2 + b*sin(ph))/a \n",
       "Riem(g)^ph_th,th,ph = -(a*sin(ph)^2 + b*sin(ph))/a \n",
       "Riem(g)^th_ph,ph,th = -a*sin(ph)/(a*sin(ph) + b) \n",
       "Riem(g)^th_ph,th,ph = a*sin(ph)/(a*sin(ph) + b) "
      ]
     },
     "execution_count": 67,
     "metadata": {},
     "output_type": "execute_result"
    }
   ],
   "source": [
    "rie.display_comp()"
   ]
  },
  {
   "cell_type": "code",
   "execution_count": 68,
   "metadata": {},
   "outputs": [
    {
     "data": {
      "text/html": [
       "<html><script type=\"math/tex; mode=display\">\\newcommand{\\Bold}[1]{\\mathbf{#1}}\\frac{a \\sin\\left({\\phi}\\right)^{2} + b \\sin\\left({\\phi}\\right)}{a}</script></html>"
      ],
      "text/plain": [
       "(a*sin(ph)^2 + b*sin(ph))/a"
      ]
     },
     "execution_count": 68,
     "metadata": {},
     "output_type": "execute_result"
    }
   ],
   "source": [
    "rie[1,2,1,2]"
   ]
  },
  {
   "cell_type": "markdown",
   "metadata": {},
   "source": [
    "<p><strong>Ricci Tensor</strong> associated to the metric $g$:</p><br>\n",
    "$$R_{\\mu\\nu} = R^{\\lambda}_{\\ \\mu\\lambda\\nu}$$"
   ]
  },
  {
   "cell_type": "code",
   "execution_count": 69,
   "metadata": {},
   "outputs": [
    {
     "name": "stdout",
     "output_type": "stream",
     "text": [
      "Field of symmetric bilinear forms Ric(g) on the 2-dimensional differentiable manifold M\n"
     ]
    }
   ],
   "source": [
    "ric = g.ricci()\n",
    "print (ric)"
   ]
  },
  {
   "cell_type": "code",
   "execution_count": 70,
   "metadata": {},
   "outputs": [
    {
     "data": {
      "text/html": [
       "<html><script type=\"math/tex; mode=display\">\\newcommand{\\Bold}[1]{\\mathbf{#1}}\\left(\\begin{array}{rr}\n",
       "\\frac{a \\sin\\left({\\phi}\\right)}{a \\sin\\left({\\phi}\\right) + b} & 0 \\\\\n",
       "0 & \\frac{a \\sin\\left({\\phi}\\right)^{2} + b \\sin\\left({\\phi}\\right)}{a}\n",
       "\\end{array}\\right)</script></html>"
      ],
      "text/plain": [
       "[  a*sin(ph)/(a*sin(ph) + b)                           0]\n",
       "[                          0 (a*sin(ph)^2 + b*sin(ph))/a]"
      ]
     },
     "execution_count": 70,
     "metadata": {},
     "output_type": "execute_result"
    }
   ],
   "source": [
    "ric[:]"
   ]
  },
  {
   "cell_type": "markdown",
   "metadata": {},
   "source": [
    "<p><strong>Ricci Scalar</strong> associated to the metric $g$:</p><br>\n",
    "$$R = g^{\\mu\\nu}R_{\\mu\\nu}\\quad$$"
   ]
  },
  {
   "cell_type": "code",
   "execution_count": 71,
   "metadata": {},
   "outputs": [
    {
     "data": {
      "text/html": [
       "<html><script type=\"math/tex; mode=display\">\\newcommand{\\Bold}[1]{\\mathbf{#1}}\\begin{array}{llcl} \\mathrm{r}\\left(g\\right):& \\mathcal{M} & \\longrightarrow & \\mathbb{R} \\\\ & \\left({\\phi}, {\\theta}\\right) & \\longmapsto & \\frac{2 \\, \\sin\\left({\\phi}\\right)}{a^{2} \\sin\\left({\\phi}\\right) + a b} \\end{array}</script></html>"
      ],
      "text/plain": [
       "r(g): M --> R\n",
       "   (ph, th) |--> 2*sin(ph)/(a^2*sin(ph) + a*b)"
      ]
     },
     "execution_count": 71,
     "metadata": {},
     "output_type": "execute_result"
    }
   ],
   "source": [
    " g.ricci_scalar().display()"
   ]
  },
  {
   "cell_type": "markdown",
   "metadata": {},
   "source": [
    "## Einstein equation\n",
    "\n",
    "Let us check that $g$ is a solution of the vacuum Einstein equation, i.e. that its Ricci tensor vanishes identically:\n",
    "\n",
    "$$R_{\\mu\\nu}=0$$"
   ]
  },
  {
   "cell_type": "code",
   "execution_count": 72,
   "metadata": {},
   "outputs": [
    {
     "data": {
      "text/html": [
       "<html><script type=\"math/tex; mode=display\">\\newcommand{\\Bold}[1]{\\mathbf{#1}}\\mathrm{Ric}\\left(g\\right)</script></html>"
      ],
      "text/plain": [
       "Field of symmetric bilinear forms Ric(g) on the 2-dimensional differentiable manifold M"
      ]
     },
     "execution_count": 72,
     "metadata": {},
     "output_type": "execute_result"
    }
   ],
   "source": [
    "g.ricci()"
   ]
  },
  {
   "cell_type": "code",
   "execution_count": 73,
   "metadata": {},
   "outputs": [
    {
     "data": {
      "text/html": [
       "<html><script type=\"math/tex; mode=display\">\\newcommand{\\Bold}[1]{\\mathbf{#1}}\\mathrm{Ric}\\left(g\\right) = \\left( \\frac{a \\sin\\left({\\phi}\\right)}{a \\sin\\left({\\phi}\\right) + b} \\right) \\mathrm{d} {\\phi}\\otimes \\mathrm{d} {\\phi} + \\left( \\frac{a \\sin\\left({\\phi}\\right)^{2} + b \\sin\\left({\\phi}\\right)}{a} \\right) \\mathrm{d} {\\theta}\\otimes \\mathrm{d} {\\theta}</script></html>"
      ],
      "text/plain": [
       "Ric(g) = a*sin(ph)/(a*sin(ph) + b) dph*dph + (a*sin(ph)^2 + b*sin(ph))/a dth*dth"
      ]
     },
     "execution_count": 73,
     "metadata": {},
     "output_type": "execute_result"
    }
   ],
   "source": [
    "g.ricci().display()"
   ]
  },
  {
   "cell_type": "code",
   "execution_count": 74,
   "metadata": {},
   "outputs": [
    {
     "data": {
      "text/html": [
       "<html><script type=\"math/tex; mode=display\">\\newcommand{\\Bold}[1]{\\mathbf{#1}}\\left(\\begin{array}{rr}\n",
       "\\frac{a \\sin\\left({\\phi}\\right)}{a \\sin\\left({\\phi}\\right) + b} & 0 \\\\\n",
       "0 & \\frac{a \\sin\\left({\\phi}\\right)^{2} + b \\sin\\left({\\phi}\\right)}{a}\n",
       "\\end{array}\\right)</script></html>"
      ],
      "text/plain": [
       "[  a*sin(ph)/(a*sin(ph) + b)                           0]\n",
       "[                          0 (a*sin(ph)^2 + b*sin(ph))/a]"
      ]
     },
     "execution_count": 74,
     "metadata": {},
     "output_type": "execute_result"
    }
   ],
   "source": [
    "g.ricci()[:]"
   ]
  },
  {
   "cell_type": "markdown",
   "metadata": {},
   "source": [
    "## Curvature tensor\n",
    "\n",
    "**The necessary and sufficient condition for a Riemannian space to be flat is that its curvature vanishes ($R^{\\lambda}_{\\phantom{\\mu}\\mu\\nu\\kappa}=0)$** ..\n",
    "<br><br>\n",
    "The Riemann curvature tensor is obtained by the method `riemann()`:"
   ]
  },
  {
   "cell_type": "code",
   "execution_count": 75,
   "metadata": {},
   "outputs": [
    {
     "name": "stdout",
     "output_type": "stream",
     "text": [
      "Tensor field Riem(g) of type (1,3) on the 2-dimensional differentiable manifold M\n"
     ]
    }
   ],
   "source": [
    "R = g.riemann()\n",
    "print(R)"
   ]
  },
  {
   "cell_type": "code",
   "execution_count": 76,
   "metadata": {},
   "outputs": [
    {
     "data": {
      "text/html": [
       "<html><script type=\"math/tex; mode=display\">\\newcommand{\\Bold}[1]{\\mathbf{#1}}\\mathrm{Riem}\\left(g\\right) = \\left( \\frac{a \\sin\\left({\\phi}\\right)^{2} + b \\sin\\left({\\phi}\\right)}{a} \\right) \\frac{\\partial}{\\partial {\\phi} }\\otimes \\mathrm{d} {\\theta}\\otimes \\mathrm{d} {\\phi}\\otimes \\mathrm{d} {\\theta} + \\left( -\\frac{a \\sin\\left({\\phi}\\right)^{2} + b \\sin\\left({\\phi}\\right)}{a} \\right) \\frac{\\partial}{\\partial {\\phi} }\\otimes \\mathrm{d} {\\theta}\\otimes \\mathrm{d} {\\theta}\\otimes \\mathrm{d} {\\phi} + \\left( -\\frac{a \\sin\\left({\\phi}\\right)}{a \\sin\\left({\\phi}\\right) + b} \\right) \\frac{\\partial}{\\partial {\\theta} }\\otimes \\mathrm{d} {\\phi}\\otimes \\mathrm{d} {\\phi}\\otimes \\mathrm{d} {\\theta} + \\left( \\frac{a \\sin\\left({\\phi}\\right)}{a \\sin\\left({\\phi}\\right) + b} \\right) \\frac{\\partial}{\\partial {\\theta} }\\otimes \\mathrm{d} {\\phi}\\otimes \\mathrm{d} {\\theta}\\otimes \\mathrm{d} {\\phi}</script></html>"
      ],
      "text/plain": [
       "Riem(g) = (a*sin(ph)^2 + b*sin(ph))/a d/dph*dth*dph*dth - (a*sin(ph)^2 + b*sin(ph))/a d/dph*dth*dth*dph - a*sin(ph)/(a*sin(ph) + b) d/dth*dph*dph*dth + a*sin(ph)/(a*sin(ph) + b) d/dth*dph*dth*dph"
      ]
     },
     "execution_count": 76,
     "metadata": {},
     "output_type": "execute_result"
    }
   ],
   "source": [
    "R.display()"
   ]
  },
  {
   "cell_type": "code",
   "execution_count": 77,
   "metadata": {},
   "outputs": [
    {
     "data": {
      "text/html": [
       "<html><script type=\"math/tex; mode=display\">\\newcommand{\\Bold}[1]{\\mathbf{#1}}\\frac{a \\sin\\left({\\phi}\\right)^{2} + b \\sin\\left({\\phi}\\right)}{a}</script></html>"
      ],
      "text/plain": [
       "(a*sin(ph)^2 + b*sin(ph))/a"
      ]
     },
     "execution_count": 77,
     "metadata": {},
     "output_type": "execute_result"
    }
   ],
   "source": [
    "R[1,2,1,2]"
   ]
  },
  {
   "cell_type": "markdown",
   "metadata": {},
   "source": [
    "## Kretschmann scalar\n",
    "\n",
    "The Kretschmann scalar is an invariant (do not depend on coordinate frame) that can be used to detect real sigularities of the metric. It is the \"square\" of the Riemann tensor defined by: \n",
    "$$ K = R_{abcd} R^{abcd}$$\n",
    "To compute it, we must form first the tensor fields whose components are $R_{abcd}$ and \n",
    "$R^{abcd}$. They are obtained by respectively lowering and raising the indices of the components $R^a_{\\ \\, bcd}$ of the Riemann tensor, via the metric $g$. These two operations are performed by the methods `down()` and `up()`. The contraction is performed by summation on repeated indices, using LaTeX notations:"
   ]
  },
  {
   "cell_type": "code",
   "execution_count": 78,
   "metadata": {},
   "outputs": [
    {
     "data": {
      "text/html": [
       "<html><script type=\"math/tex; mode=display\">\\newcommand{\\Bold}[1]{\\mathbf{#1}}\\mbox{Scalar field on the 2-dimensional differentiable manifold M}</script></html>"
      ],
      "text/plain": [
       "Scalar field on the 2-dimensional differentiable manifold M"
      ]
     },
     "execution_count": 78,
     "metadata": {},
     "output_type": "execute_result"
    }
   ],
   "source": [
    "K = R.down(g)['_{abcd}'] * R.up(g)['^{abcd}']\n",
    "K"
   ]
  },
  {
   "cell_type": "code",
   "execution_count": 79,
   "metadata": {},
   "outputs": [
    {
     "data": {
      "text/html": [
       "<html><script type=\"math/tex; mode=display\">\\newcommand{\\Bold}[1]{\\mathbf{#1}}\\begin{array}{llcl} & \\mathcal{M} & \\longrightarrow & \\mathbb{R} \\\\ & \\left({\\phi}, {\\theta}\\right) & \\longmapsto & \\frac{4 \\, \\sin\\left({\\phi}\\right)^{2}}{a^{4} \\sin\\left({\\phi}\\right)^{2} + 2 \\, a^{3} b \\sin\\left({\\phi}\\right) + a^{2} b^{2}} \\end{array}</script></html>"
      ],
      "text/plain": [
       "M --> R\n",
       "(ph, th) |--> 4*sin(ph)^2/(a^4*sin(ph)^2 + 2*a^3*b*sin(ph) + a^2*b^2)"
      ]
     },
     "execution_count": 79,
     "metadata": {},
     "output_type": "execute_result"
    }
   ],
   "source": [
    "K.display()"
   ]
  },
  {
   "cell_type": "code",
   "execution_count": 80,
   "metadata": {},
   "outputs": [
    {
     "data": {
      "text/html": [
       "<html><script type=\"math/tex; mode=display\">\\newcommand{\\Bold}[1]{\\mathbf{#1}}\\frac{4 \\, \\sin\\left({\\phi}\\right)^{2}}{a^{4} \\sin\\left({\\phi}\\right)^{2} + 2 \\, a^{3} b \\sin\\left({\\phi}\\right) + a^{2} b^{2}}</script></html>"
      ],
      "text/plain": [
       "4*sin(ph)^2/(a^4*sin(ph)^2 + 2*a^3*b*sin(ph) + a^2*b^2)"
      ]
     },
     "execution_count": 80,
     "metadata": {},
     "output_type": "execute_result"
    }
   ],
   "source": [
    "K.expr()"
   ]
  },
  {
   "cell_type": "code",
   "execution_count": null,
   "metadata": {},
   "outputs": [],
   "source": []
  },
  {
   "cell_type": "code",
   "execution_count": null,
   "metadata": {},
   "outputs": [],
   "source": []
  }
 ],
 "metadata": {
  "kernelspec": {
   "display_name": "SageMath 8.2",
   "language": "",
   "name": "sagemath"
  },
  "language": "python",
  "language_info": {
   "codemirror_mode": {
    "name": "ipython",
    "version": 2
   },
   "file_extension": ".py",
   "mimetype": "text/x-python",
   "name": "python",
   "nbconvert_exporter": "python",
   "pygments_lexer": "ipython2",
   "version": "2.7.14"
  }
 },
 "nbformat": 4,
 "nbformat_minor": 1
}
